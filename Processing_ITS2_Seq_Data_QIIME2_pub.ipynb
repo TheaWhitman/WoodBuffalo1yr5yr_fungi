{
 "cells": [
  {
   "cell_type": "markdown",
   "id": "77a0c5a9",
   "metadata": {},
   "source": [
    "### Downloaded QIIME-formatted ref seqs from UNITE\n",
    "### https://unite.ut.ee/repository.php\n",
    "### When using this resource, please cite it as follows:\n",
    "#### Abarenkov, Kessy; Zirk, Allan; Piirmann, Timo; Pöhönen, Raivo; Ivanov, Filipp; Nilsson, R. Henrik; Kõljalg, Urmas (2022): UNITE QIIME release for Fungi 2. Version 16.10.2022. UNITE Community. https://doi.org/10.15156/BIO/2483916\n",
    "#### Includes global and 3% distance singletons. "
   ]
  },
  {
   "cell_type": "markdown",
   "id": "60b96144",
   "metadata": {},
   "source": [
    "### Using the UNITE-recommended version of the database (not developer)"
   ]
  },
  {
   "cell_type": "code",
   "execution_count": 1,
   "id": "d176db08",
   "metadata": {},
   "outputs": [
    {
     "name": "stdout",
     "output_type": "stream",
     "text": [
      "\u001b[32mImported UNITE_2022_10_16_Global_and_3pct_singletons/sh_refs_qiime_ver9_dynamic_s_29.11.2022.fasta as DNASequencesDirectoryFormat to ../Seq-processing/unite.trimmed.qza\u001b[0m\r\n",
      "\u001b[0m"
     ]
    }
   ],
   "source": [
    "# Import UNITE db sequences\n",
    "# Using the dynamic set, informed by mycologists\n",
    "# The UNITE databse docs recommend using the version they have already trimmed.\n",
    "!qiime tools import \\\n",
    "  --type 'FeatureData[Sequence]' \\\n",
    "  --input-path UNITE_2022_10_16_Global_and_3pct_singletons/sh_refs_qiime_ver9_dynamic_s_29.11.2022.fasta \\\n",
    "  --output-path ../Seq-processing/unite.trimmed.qza"
   ]
  },
  {
   "cell_type": "code",
   "execution_count": 2,
   "id": "bdf3be40",
   "metadata": {},
   "outputs": [
    {
     "name": "stdout",
     "output_type": "stream",
     "text": [
      "\u001b[32mImported UNITE_2022_10_16_Global_and_3pct_singletons/sh_taxonomy_qiime_ver9_dynamic_s_29.11.2022.txt as HeaderlessTSVTaxonomyFormat to ../Seq-processing/unite-taxonomy.trimmed.qza\u001b[0m\r\n",
      "\u001b[0m"
     ]
    }
   ],
   "source": [
    "# Import UNITE db taxonomy\n",
    "# Using the dynamic set, informed by mycologists\n",
    "# And the developer version, which is not as trimmed, as recommended in QIIME feature classifier tutorial\n",
    "!qiime tools import \\\n",
    "  --type 'FeatureData[Taxonomy]' \\\n",
    "  --input-format HeaderlessTSVTaxonomyFormat \\\n",
    "  --input-path  UNITE_2022_10_16_Global_and_3pct_singletons/sh_taxonomy_qiime_ver9_dynamic_s_29.11.2022.txt \\\n",
    "  --output-path ../Seq-processing/unite-taxonomy.trimmed.qza"
   ]
  },
  {
   "cell_type": "code",
   "execution_count": 3,
   "id": "cc4df7b6",
   "metadata": {},
   "outputs": [
    {
     "name": "stdout",
     "output_type": "stream",
     "text": [
      "\u001b[32mSaved TaxonomicClassifier to: ../Seq-processing/unite.classifier.trimmed.qza\u001b[0m\n",
      "\u001b[0m"
     ]
    }
   ],
   "source": [
    "# Train the classifier\n",
    "!qiime feature-classifier fit-classifier-naive-bayes \\\n",
    "  --i-reference-reads ../Seq-processing/unite.trimmed.qza \\\n",
    "  --i-reference-taxonomy ../Seq-processing/unite-taxonomy.trimmed.qza \\\n",
    "  --o-classifier ../Seq-processing/unite.classifier.trimmed.qza"
   ]
  },
  {
   "cell_type": "markdown",
   "id": "30d5e939",
   "metadata": {},
   "source": [
    "Note: in previous tests, the UNITE-recommended dataset gave assignments to more OTUs at the genus and species levels in the 2015 dataset, and more classified OTUs in the 2019 dataset as well. Given this, I will use the trimmed version, since it is the recommended option from UNITE."
   ]
  },
  {
   "cell_type": "markdown",
   "id": "a90ea004",
   "metadata": {},
   "source": [
    "## Running both years without having run ITSxpress first\n",
    "ITSx / ITSxpress improves taxonomic assignments, but I'm concerned that differential trimming\n",
    "between the two years' datasets might artificially lead to different OTUs that should be the same.\n",
    "If we keep the ends of the amplicon, that helps give confidence that it's not a weird trimming issue"
   ]
  },
  {
   "cell_type": "code",
   "execution_count": 3,
   "id": "fc2d7349",
   "metadata": {},
   "outputs": [
    {
     "name": "stdout",
     "output_type": "stream",
     "text": [
      "\u001b[32mSaved SampleData[PairedEndSequencesWithQuality] to: ../Seq-processing/sequences.cutadapt.qza\u001b[0m\n",
      "\u001b[0m"
     ]
    }
   ],
   "source": [
    "# Since not running ITSx, do need to trim primers in case short amplicons got primers sequenced into at 5' end.\n",
    "!qiime cutadapt trim-paired \\\n",
    "    --i-demultiplexed-sequences ../Seq-processing/sequences.qza \\\n",
    "    --p-cores 18 \\\n",
    "    --p-adapter-f AACTTTYRRCAAYGGATCWCT \\\n",
    "    --p-adapter-r AGCCTCCGCTTATTGATATGCTTAART \\\n",
    "    --p-error-rate 0.1 \\\n",
    "    --p-match-adapter-wildcards \\\n",
    "    --p-discard-untrimmed False \\\n",
    "    --o-trimmed-sequences ../Seq-processing/sequences.cutadapt.qza"
   ]
  },
  {
   "cell_type": "code",
   "execution_count": 4,
   "id": "806b8466",
   "metadata": {},
   "outputs": [
    {
     "name": "stdout",
     "output_type": "stream",
     "text": [
      "\u001b[32mSaved Visualization to: ../Seq-processing/sequences.cutadapt.qzv\u001b[0m\n",
      "\u001b[0m"
     ]
    }
   ],
   "source": [
    "# Inspect efects\n",
    "! qiime demux summarize \\\n",
    "  --i-data ../Seq-processing/sequences.cutadapt.qza \\\n",
    "  --o-visualization ../Seq-processing/sequences.cutadapt.qzv"
   ]
  },
  {
   "cell_type": "code",
   "execution_count": 5,
   "id": "20f939f2",
   "metadata": {},
   "outputs": [],
   "source": [
    "# Looks like there was some minor trimming, but not substantial."
   ]
  },
  {
   "cell_type": "code",
   "execution_count": 5,
   "id": "4abcd59c",
   "metadata": {
    "collapsed": true
   },
   "outputs": [
    {
     "name": "stdout",
     "output_type": "stream",
     "text": [
      "Usage: \u001b[94mqiime dada2 denoise-paired\u001b[0m [OPTIONS]\r\n",
      "\r\n",
      "  This method denoises paired-end sequences, dereplicates them, and filters\r\n",
      "  chimeras.\r\n",
      "\r\n",
      "\u001b[1mInputs\u001b[0m:\r\n",
      "  \u001b[94m\u001b[4m--i-demultiplexed-seqs\u001b[0m ARTIFACT \u001b[32mSampleData[PairedEndSequencesWithQuality]\u001b[0m\r\n",
      "                         The paired-end demultiplexed sequences to be\r\n",
      "                         denoised.                                  \u001b[35m[required]\u001b[0m\r\n",
      "\u001b[1mParameters\u001b[0m:\r\n",
      "  \u001b[94m\u001b[4m--p-trunc-len-f\u001b[0m INTEGER\r\n",
      "                         Position at which forward read sequences should be\r\n",
      "                         truncated due to decrease in quality. This truncates\r\n",
      "                         the 3' end of the of the input sequences, which will\r\n",
      "                         be the bases that were sequenced in the last cycles.\r\n",
      "                         Reads that are shorter than this value will be\r\n",
      "                         discarded. After this parameter is applied there must\r\n",
      "                         still be at least a 12 nucleotide overlap between the\r\n",
      "                         forward and reverse reads. If 0 is provided, no\r\n",
      "                         truncation or length filtering will be performed\r\n",
      "                                                                    \u001b[35m[required]\u001b[0m\r\n",
      "  \u001b[94m\u001b[4m--p-trunc-len-r\u001b[0m INTEGER\r\n",
      "                         Position at which reverse read sequences should be\r\n",
      "                         truncated due to decrease in quality. This truncates\r\n",
      "                         the 3' end of the of the input sequences, which will\r\n",
      "                         be the bases that were sequenced in the last cycles.\r\n",
      "                         Reads that are shorter than this value will be\r\n",
      "                         discarded. After this parameter is applied there must\r\n",
      "                         still be at least a 12 nucleotide overlap between the\r\n",
      "                         forward and reverse reads. If 0 is provided, no\r\n",
      "                         truncation or length filtering will be performed\r\n",
      "                                                                    \u001b[35m[required]\u001b[0m\r\n",
      "  \u001b[94m--p-trim-left-f\u001b[0m INTEGER\r\n",
      "                         Position at which forward read sequences should be\r\n",
      "                         trimmed due to low quality. This trims the 5' end of\r\n",
      "                         the input sequences, which will be the bases that\r\n",
      "                         were sequenced in the first cycles.      \u001b[35m[default: 0]\u001b[0m\r\n",
      "  \u001b[94m--p-trim-left-r\u001b[0m INTEGER\r\n",
      "                         Position at which reverse read sequences should be\r\n",
      "                         trimmed due to low quality. This trims the 5' end of\r\n",
      "                         the input sequences, which will be the bases that\r\n",
      "                         were sequenced in the first cycles.      \u001b[35m[default: 0]\u001b[0m\r\n",
      "  \u001b[94m--p-max-ee-f\u001b[0m NUMBER    Forward reads with number of expected errors higher\r\n",
      "                         than this value will be discarded.     \u001b[35m[default: 2.0]\u001b[0m\r\n",
      "  \u001b[94m--p-max-ee-r\u001b[0m NUMBER    Reverse reads with number of expected errors higher\r\n",
      "                         than this value will be discarded.     \u001b[35m[default: 2.0]\u001b[0m\r\n",
      "  \u001b[94m--p-trunc-q\u001b[0m INTEGER    Reads are truncated at the first instance of a\r\n",
      "                         quality score less than or equal to this value. If\r\n",
      "                         the resulting read is then shorter than `\u001b[4mtrunc-len-f\u001b[0m`\r\n",
      "                         or `\u001b[4mtrunc-len-r\u001b[0m` (depending on the direction of the\r\n",
      "                         read) it is discarded.                   \u001b[35m[default: 2]\u001b[0m\r\n",
      "  \u001b[94m--p-min-overlap\u001b[0m INTEGER\r\n",
      "    \u001b[32mRange(4, None)\u001b[0m       The minimum length of the overlap required for\r\n",
      "                         merging the forward and reverse reads.  \u001b[35m[default: 12]\u001b[0m\r\n",
      "  \u001b[94m--p-pooling-method\u001b[0m TEXT \u001b[32mChoices('independent', 'pseudo')\u001b[0m\r\n",
      "                         The method used to pool samples for denoising.\r\n",
      "                         \"independent\": Samples are denoised indpendently.\r\n",
      "                         \"pseudo\": The pseudo-pooling method is used to\r\n",
      "                         approximate pooling of samples. In short, samples are\r\n",
      "                         denoised independently once, ASVs detected in at\r\n",
      "                         least 2 samples are recorded, and samples are\r\n",
      "                         denoised independently a second time, but this time\r\n",
      "                         with prior knowledge of the recorded ASVs and thus\r\n",
      "                         higher sensitivity to those ASVs.\r\n",
      "                                                      \u001b[35m[default: 'independent']\u001b[0m\r\n",
      "  \u001b[94m--p-chimera-method\u001b[0m TEXT \u001b[32mChoices('consensus', 'none', 'pooled')\u001b[0m\r\n",
      "                         The method used to remove chimeras. \"none\": No\r\n",
      "                         chimera removal is performed. \"pooled\": All reads are\r\n",
      "                         pooled prior to chimera detection. \"consensus\":\r\n",
      "                         Chimeras are detected in samples individually, and\r\n",
      "                         sequences found chimeric in a sufficient fraction of\r\n",
      "                         samples are removed.           \u001b[35m[default: 'consensus']\u001b[0m\r\n",
      "  \u001b[94m--p-min-fold-parent-over-abundance\u001b[0m NUMBER\r\n",
      "                         The minimum abundance of potential parents of a\r\n",
      "                         sequence being tested as chimeric, expressed as a\r\n",
      "                         fold-change versus the abundance of the sequence\r\n",
      "                         being tested. Values should be greater than or equal\r\n",
      "                         to 1 (i.e. parents should be more abundant than the\r\n",
      "                         sequence being tested). This parameter has no effect\r\n",
      "                         if \u001b[4mchimera-method\u001b[0m is \"none\".           \u001b[35m[default: 1.0]\u001b[0m\r\n",
      "  \u001b[94m--p-allow-one-off\u001b[0m / \u001b[94m--p-no-allow-one-off\u001b[0m\r\n",
      "                         Bimeras that are one-off from exact are also\r\n",
      "                         identified if the `\u001b[4mallow-one-off\u001b[0m` argument is TrueIf\r\n",
      "                         True, a sequence will be identified as bimera if it\r\n",
      "                         is one mismatch or indel away from an exact bimera.\r\n",
      "                                                              \u001b[35m[default: False]\u001b[0m\r\n",
      "  \u001b[94m--p-n-threads\u001b[0m INTEGER  The number of threads to use for multithreaded\r\n",
      "                         processing. If 0 is provided, all available cores\r\n",
      "                         will be used.                            \u001b[35m[default: 1]\u001b[0m\r\n",
      "  \u001b[94m--p-n-reads-learn\u001b[0m INTEGER\r\n",
      "                         The number of reads to use when training the error\r\n",
      "                         model. Smaller numbers will result in a shorter run\r\n",
      "                         time but a less reliable error model.\r\n",
      "                                                            \u001b[35m[default: 1000000]\u001b[0m\r\n",
      "  \u001b[94m--p-hashed-feature-ids\u001b[0m / \u001b[94m--p-no-hashed-feature-ids\u001b[0m\r\n",
      "                         If true, the feature ids in the resulting table will\r\n",
      "                         be presented as hashes of the sequences defining each\r\n",
      "                         feature. The hash will always be the same for the\r\n",
      "                         same sequence so this allows feature tables to be\r\n",
      "                         merged across runs of this method. You should only\r\n",
      "                         merge tables if the exact same parameters are used\r\n",
      "                         for each run.                         \u001b[35m[default: True]\u001b[0m\r\n",
      "\u001b[1mOutputs\u001b[0m:\r\n",
      "  \u001b[94m\u001b[4m--o-table\u001b[0m ARTIFACT \u001b[32mFeatureTable[Frequency]\u001b[0m\r\n",
      "                         The resulting feature table.               \u001b[35m[required]\u001b[0m\r\n",
      "  \u001b[94m\u001b[4m--o-representative-sequences\u001b[0m ARTIFACT \u001b[32mFeatureData[Sequence]\u001b[0m\r\n",
      "                         The resulting feature sequences. Each feature in the\r\n",
      "                         feature table will be represented by exactly one\r\n",
      "                         sequence, and these sequences will be the joined\r\n",
      "                         paired-end sequences.                      \u001b[35m[required]\u001b[0m\r\n",
      "  \u001b[94m\u001b[4m--o-denoising-stats\u001b[0m ARTIFACT \u001b[32mSampleData[DADA2Stats]\u001b[0m\r\n",
      "                                                                    \u001b[35m[required]\u001b[0m\r\n",
      "\u001b[1mMiscellaneous\u001b[0m:\r\n",
      "  \u001b[94m--output-dir\u001b[0m PATH      Output unspecified results to a directory\r\n",
      "  \u001b[94m--verbose\u001b[0m / \u001b[94m--quiet\u001b[0m    Display verbose output to stdout and/or stderr\r\n",
      "                         during execution of this action. Or silence output if\r\n",
      "                         execution is successful (silence is golden).\r\n",
      "  \u001b[94m--example-data\u001b[0m PATH    Write example data and exit.\r\n",
      "  \u001b[94m--citations\u001b[0m            Show citations and exit.\r\n",
      "  \u001b[94m--help\u001b[0m                 Show this message and exit.\r\n",
      "\r\n",
      "\u001b[1mExamples\u001b[0m:\r\n",
      "  # ### example: denoise paired\r\n",
      "  qiime dada2 denoise-paired \\\r\n",
      "    --i-demultiplexed-seqs demux-paired.qza \\\r\n",
      "    --p-trunc-len-f 150 \\\r\n",
      "    --p-trunc-len-r 140 \\\r\n",
      "    --o-representative-sequences representative-sequences.qza \\\r\n",
      "    --o-table table.qza \\\r\n",
      "    --o-denoising-stats denoising-stats.qza\r\n",
      "  \r\n",
      "\u001b[0m"
     ]
    }
   ],
   "source": [
    "!qiime dada2 denoise-paired --help"
   ]
  },
  {
   "cell_type": "code",
   "execution_count": 8,
   "id": "535d87c9",
   "metadata": {},
   "outputs": [
    {
     "name": "stdout",
     "output_type": "stream",
     "text": [
      "Running external command line application(s). This may print messages to stdout and/or stderr.\n",
      "The command(s) being run are below. These commands cannot be manually re-run as they will depend on temporary files that no longer exist.\n",
      "\n",
      "Command: run_dada.R --input_directory /var/folders/fg/swg7hms154x088v8f_71v1500000gn/T/tmpwuepzv4c/forward --input_directory_reverse /var/folders/fg/swg7hms154x088v8f_71v1500000gn/T/tmpwuepzv4c/reverse --output_path /var/folders/fg/swg7hms154x088v8f_71v1500000gn/T/tmpwuepzv4c/output.tsv.biom --output_track /var/folders/fg/swg7hms154x088v8f_71v1500000gn/T/tmpwuepzv4c/track.tsv --filtered_directory /var/folders/fg/swg7hms154x088v8f_71v1500000gn/T/tmpwuepzv4c/filt_f --filtered_directory_reverse /var/folders/fg/swg7hms154x088v8f_71v1500000gn/T/tmpwuepzv4c/filt_r --truncation_length 220 --truncation_length_reverse 202 --trim_left 0 --trim_left_reverse 0 --max_expected_errors 8 --max_expected_errors_reverse 8 --truncation_quality_score 2 --min_overlap 10 --pooling_method pseudo --chimera_method pooled --min_parental_fold 1.0 --allow_one_off False --num_threads 18 --learn_min_reads 1000000\n",
      "\n",
      "R version 4.2.3 (2023-03-15) \n",
      "Loading required package: Rcpp\n",
      "\u001b[?25hDADA2: 1.26.0 / Rcpp: 1.0.10 / RcppParallel: 5.1.6 \n",
      "\u001b[?25h\u001b[?25h2) Filtering \u001b[?25h\u001b[?25h.....................................................................................\u001b[?25h\u001b[?25h\u001b[?25h\n",
      "\u001b[?25h\u001b[?25h3) Learning Error Rates\n",
      "\u001b[?25h222466640 total bases in 1011212 reads from 14 samples will be used for learning the error rates.\n",
      "204264824 total bases in 1011212 reads from 14 samples will be used for learning the error rates.\n",
      "\u001b[?25h3) Denoise samples .....................................................................................\n",
      "  Pseudo-pool step .....................................................................................\n",
      ".....................................................................................\n",
      "\u001b[?25h5) Remove chimeras (method = pooled)\n",
      "\u001b[?25h\u001b[?25h6) Report read numbers through the pipeline\n",
      "\u001b[?25h\u001b[?25h7) Write output\n",
      "\u001b[?25h\u001b[?25h\u001b[?25h\u001b[?25h\u001b[?25h\u001b[?25h\u001b[?25h\u001b[32mSaved FeatureTable[Frequency] to: ../Seq-processing/table.2019.noITSx.cutadapt.qza\u001b[0m\n",
      "\u001b[32mSaved FeatureData[Sequence] to: ../Seq-processing/rep-seqs.2019.noITSx.cutadapt.qza\u001b[0m\n",
      "\u001b[32mSaved SampleData[DADA2Stats] to: ../Seq-processing/denoising-stats.2019.noITSx.cutadapt.qza\u001b[0m\n",
      "\u001b[0m"
     ]
    }
   ],
   "source": [
    "# Pick OTUs for 2019 dataset\n",
    "# Goal for trimming is to keep similar levels of quality to 2015 trimmed data\n",
    "# Trimming at last instance of lower quartile above 20\n",
    "# Error profiles are actually relatively similar at this point between the two years\n",
    "\n",
    "!qiime dada2 denoise-paired \\\n",
    "  --p-n-threads 18 \\\n",
    "  --i-demultiplexed-seqs ../Seq-processing/sequences.cutadapt.qza \\\n",
    "  --p-trim-left-f 0 \\\n",
    "  --p-trim-left-r 0 \\\n",
    "  --p-trunc-len-f 220 \\\n",
    "  --p-trunc-len-r 202 \\\n",
    "  --p-max-ee-f 8 \\\n",
    "  --p-max-ee-r 8 \\\n",
    "  --p-trunc-q 2 \\\n",
    "  --p-min-overlap 10 \\\n",
    "  --p-pooling-method 'pseudo' \\\n",
    "  --p-chimera-method 'pooled' \\\n",
    "  --p-min-fold-parent-over-abundance 1.0 \\\n",
    "  --p-allow-one-off False \\\n",
    "  --p-n-reads-learn 1000000 \\\n",
    "  --o-table ../Seq-processing/table.2019.noITSx.cutadapt.qza \\\n",
    "  --o-representative-sequences ../Seq-processing/rep-seqs.2019.noITSx.cutadapt.qza \\\n",
    "  --o-denoising-stats ../Seq-processing/denoising-stats.2019.noITSx.cutadapt.qza \\\n",
    "  --verbose"
   ]
  },
  {
   "cell_type": "code",
   "execution_count": 9,
   "id": "f89ebba2",
   "metadata": {},
   "outputs": [
    {
     "name": "stdout",
     "output_type": "stream",
     "text": [
      "\u001b[32mSaved Visualization to: ../Seq-processing/rep-seqs.2019.noITSx.cutadapt.qzv\u001b[0m\n",
      "\u001b[0m"
     ]
    }
   ],
   "source": [
    "# Look at seq lengths after untrimmed OTU picking to help inform future trimming\n",
    "# Save rep seqs visualization\n",
    "# Similar to 2015 dataset\n",
    "!qiime feature-table tabulate-seqs \\\n",
    "    --i-data ../Seq-processing/rep-seqs.2019.noITSx.cutadapt.qza\\\n",
    "    --o-visualization ../Seq-processing/rep-seqs.2019.noITSx.cutadapt.qzv"
   ]
  },
  {
   "cell_type": "code",
   "execution_count": 10,
   "id": "c379b56f",
   "metadata": {},
   "outputs": [
    {
     "name": "stdout",
     "output_type": "stream",
     "text": [
      "\u001b[32mSaved Visualization to: ../Seq-processing/denoising-stats.2019.noITSx.cutadapt.qzv\u001b[0m\r\n",
      "\u001b[0m"
     ]
    }
   ],
   "source": [
    "# This degree of trimming resulted in large fractions of reads making it through\n",
    "# 65-92%. We expect to be missing the longer-read OTUs, but I think it's necessary\n",
    "# to trim more aggressively to make the two datasets more comparable.\n",
    "# Max OTU seq length here would be just over 400bp.\n",
    "!qiime metadata tabulate --m-input-file ../Seq-processing/denoising-stats.2019.noITSx.cutadapt.qza --o-visualization ../Seq-processing/denoising-stats.2019.noITSx.cutadapt.qzv"
   ]
  },
  {
   "cell_type": "code",
   "execution_count": 16,
   "id": "8cd75109",
   "metadata": {},
   "outputs": [
    {
     "name": "stdout",
     "output_type": "stream",
     "text": [
      "\u001b[32mSaved FeatureData[Taxonomy] to: ../Seq-processing/taxonomy.2019.noITSx.cutadapt.qza\u001b[0m\n",
      "\u001b[0m"
     ]
    }
   ],
   "source": [
    "# Classify our 2019 OTUs using the UNITE-recommended database and classifier\n",
    "!qiime feature-classifier classify-sklearn \\\n",
    "  --i-classifier ../Seq-processing/unite.classifier.trimmed.qza \\\n",
    "  --i-reads ../Seq-processing/rep-seqs.2019.noITSx.cutadapt.qza \\\n",
    "  --o-classification ../Seq-processing/taxonomy.2019.noITSx.cutadapt.qza"
   ]
  },
  {
   "cell_type": "markdown",
   "id": "7c9580ef",
   "metadata": {},
   "source": [
    "#### 2015 dataset cutadapt no ITSx"
   ]
  },
  {
   "cell_type": "code",
   "execution_count": 6,
   "id": "cc0406d7",
   "metadata": {},
   "outputs": [
    {
     "name": "stdout",
     "output_type": "stream",
     "text": [
      "\u001b[32mSaved SampleData[PairedEndSequencesWithQuality] to: ../Seq-processing/sequences.2015.cutadapt.qza\u001b[0m\n",
      "\u001b[0m"
     ]
    }
   ],
   "source": [
    "# Since not running ITSx, do need to trim primers in case short amplicons got primers sequenced into at 5' end.\n",
    "\n",
    "!qiime cutadapt trim-paired \\\n",
    "    --i-demultiplexed-sequences ../Seq-processing/sequences.2015.qza \\\n",
    "    --p-adapter-f AACTTTYRRCAAYGGATCWCT \\\n",
    "    --p-adapter-r AGCCTCCGCTTATTGATATGCTTAART \\\n",
    "    --p-error-rate 0.1 \\\n",
    "    --p-match-adapter-wildcards \\\n",
    "    --p-discard-untrimmed False \\\n",
    "    --p-cores 18 \\\n",
    "    --o-trimmed-sequences ../Seq-processing/sequences.2015.cutadapt.qza"
   ]
  },
  {
   "cell_type": "code",
   "execution_count": 7,
   "id": "61c5979e",
   "metadata": {},
   "outputs": [
    {
     "name": "stdout",
     "output_type": "stream",
     "text": [
      "\u001b[32mSaved Visualization to: ../Seq-processing/sequences.2015.cutadapt.qzv\u001b[0m\n",
      "\u001b[0m"
     ]
    }
   ],
   "source": [
    "# Inspect efects\n",
    "! qiime demux summarize \\\n",
    "  --i-data ../Seq-processing/sequences.2015.cutadapt.qza \\\n",
    "  --o-visualization ../Seq-processing/sequences.2015.cutadapt.qzv"
   ]
  },
  {
   "cell_type": "code",
   "execution_count": 12,
   "id": "64279bb6",
   "metadata": {},
   "outputs": [
    {
     "name": "stdout",
     "output_type": "stream",
     "text": [
      "Running external command line application(s). This may print messages to stdout and/or stderr.\n",
      "The command(s) being run are below. These commands cannot be manually re-run as they will depend on temporary files that no longer exist.\n",
      "\n",
      "Command: run_dada.R --input_directory /var/folders/fg/swg7hms154x088v8f_71v1500000gn/T/tmpm1ynvjrt/forward --input_directory_reverse /var/folders/fg/swg7hms154x088v8f_71v1500000gn/T/tmpm1ynvjrt/reverse --output_path /var/folders/fg/swg7hms154x088v8f_71v1500000gn/T/tmpm1ynvjrt/output.tsv.biom --output_track /var/folders/fg/swg7hms154x088v8f_71v1500000gn/T/tmpm1ynvjrt/track.tsv --filtered_directory /var/folders/fg/swg7hms154x088v8f_71v1500000gn/T/tmpm1ynvjrt/filt_f --filtered_directory_reverse /var/folders/fg/swg7hms154x088v8f_71v1500000gn/T/tmpm1ynvjrt/filt_r --truncation_length 226 --truncation_length_reverse 201 --trim_left 0 --trim_left_reverse 0 --max_expected_errors 8 --max_expected_errors_reverse 8 --truncation_quality_score 2 --min_overlap 10 --pooling_method pseudo --chimera_method pooled --min_parental_fold 1.0 --allow_one_off False --num_threads 18 --learn_min_reads 1000000\n",
      "\n",
      "R version 4.2.3 (2023-03-15) \n",
      "Loading required package: Rcpp\n",
      "\u001b[?25hDADA2: 1.26.0 / Rcpp: 1.0.10 / RcppParallel: 5.1.6 \n",
      "\u001b[?25h\u001b[?25h2) Filtering \u001b[?25h\u001b[?25h....................................................................................................................................................................................................................\u001b[?25h\u001b[?25h\u001b[?25h\n",
      "\u001b[?25h\u001b[?25h3) Learning Error Rates\n",
      "\u001b[?25h227085252 total bases in 1004802 reads from 96 samples will be used for learning the error rates.\n",
      "201965202 total bases in 1004802 reads from 96 samples will be used for learning the error rates.\n",
      "\u001b[?25h3) Denoise samples ....................................................................................................................................................................................................................\n",
      "  Pseudo-pool step ....................................................................................................................................................................................................................\n",
      "....................................................................................................................................................................................................................\n",
      "\u001b[?25h5) Remove chimeras (method = pooled)\n",
      "\u001b[?25h\u001b[?25h6) Report read numbers through the pipeline\n",
      "\u001b[?25h\u001b[?25h7) Write output\n",
      "\u001b[?25h\u001b[?25h\u001b[?25h\u001b[?25h\u001b[?25h\u001b[?25h\u001b[?25h\u001b[32mSaved FeatureTable[Frequency] to: ../Seq-processing/table.2015.noITSx.cutadapt.qza\u001b[0m\n",
      "\u001b[32mSaved FeatureData[Sequence] to: ../Seq-processing/rep-seqs.2015.noITSx.cutadapt.qza\u001b[0m\n",
      "\u001b[32mSaved SampleData[DADA2Stats] to: ../Seq-processing/denoising-stats.2015.noITSx.cutadapt.qza\u001b[0m\n",
      "\u001b[0m"
     ]
    }
   ],
   "source": [
    "# Pick OTUs for 2015 dataset\n",
    "# Trimming to match 2019 dataset quality profiles\n",
    "# Trimming at last instance of lower quartile above 20\n",
    "# Error profiles are actually relatively similar at this point between the two years\n",
    "\n",
    "!qiime dada2 denoise-paired \\\n",
    "  --p-n-threads 18 \\\n",
    "  --i-demultiplexed-seqs ../Seq-processing/sequences.2015.cutadapt.qza \\\n",
    "  --p-trim-left-f 0 \\\n",
    "  --p-trim-left-r 0 \\\n",
    "  --p-trunc-len-f 226 \\\n",
    "  --p-trunc-len-r 201 \\\n",
    "  --p-max-ee-f 8 \\\n",
    "  --p-max-ee-r 8 \\\n",
    "  --p-trunc-q 2 \\\n",
    "  --p-min-overlap 10 \\\n",
    "  --p-pooling-method 'pseudo' \\\n",
    "  --p-chimera-method 'pooled' \\\n",
    "  --p-min-fold-parent-over-abundance 1.0 \\\n",
    "  --p-allow-one-off False \\\n",
    "  --p-n-reads-learn 1000000 \\\n",
    "  --o-table ../Seq-processing/table.2015.noITSx.cutadapt.qza \\\n",
    "  --o-representative-sequences ../Seq-processing/rep-seqs.2015.noITSx.cutadapt.qza \\\n",
    "  --o-denoising-stats ../Seq-processing/denoising-stats.2015.noITSx.cutadapt.qza \\\n",
    "  --verbose"
   ]
  },
  {
   "cell_type": "code",
   "execution_count": 13,
   "id": "4cb8e1a2",
   "metadata": {},
   "outputs": [
    {
     "name": "stdout",
     "output_type": "stream",
     "text": [
      "\u001b[32mSaved Visualization to: ../Seq-processing/denoising-stats.2015.noITSx.cutadapt.qzv\u001b[0m\r\n",
      "\u001b[0m"
     ]
    }
   ],
   "source": [
    "# 50-87% of 2015 reads getting through to end\n",
    "# Might be somewhat lower than 2019 dataset, but not bad.\n",
    "!qiime metadata tabulate --m-input-file ../Seq-processing/denoising-stats.2015.noITSx.cutadapt.qza \\\n",
    "    --o-visualization ../Seq-processing/denoising-stats.2015.noITSx.cutadapt.qzv"
   ]
  },
  {
   "cell_type": "code",
   "execution_count": 14,
   "id": "171a4b40",
   "metadata": {},
   "outputs": [
    {
     "name": "stdout",
     "output_type": "stream",
     "text": [
      "\u001b[32mSaved Visualization to: ../Seq-processing/rep-seqs.2015.noITSx.cutadapt.qzv\u001b[0m\r\n",
      "\u001b[0m"
     ]
    }
   ],
   "source": [
    "# Look at seq lengths after untrimmed OTU picking to help inform future trimming\n",
    "# Save rep seqs visualization\n",
    "# Similar to 2019 dataset\n",
    "!qiime feature-table tabulate-seqs \\\n",
    "    --i-data ../Seq-processing/rep-seqs.2015.noITSx.cutadapt.qza\\\n",
    "    --o-visualization ../Seq-processing/rep-seqs.2015.noITSx.cutadapt.qzv"
   ]
  },
  {
   "cell_type": "code",
   "execution_count": 15,
   "id": "77f53333",
   "metadata": {},
   "outputs": [
    {
     "name": "stdout",
     "output_type": "stream",
     "text": [
      "\u001b[32mSaved FeatureData[Taxonomy] to: ../Seq-processing/taxonomy.2015.noITSx.cutadapt.qza\u001b[0m\n",
      "\u001b[0m"
     ]
    }
   ],
   "source": [
    "# Classify our 2015 OTUs using the UNITE-recommended database and classifier\n",
    "!qiime feature-classifier classify-sklearn \\\n",
    "  --i-classifier ../Seq-processing/unite.classifier.trimmed.qza \\\n",
    "  --i-reads ../Seq-processing/rep-seqs.2015.noITSx.cutadapt.qza \\\n",
    "  --o-classification ../Seq-processing/taxonomy.2015.noITSx.cutadapt.qza"
   ]
  },
  {
   "cell_type": "code",
   "execution_count": null,
   "id": "8e64ad62",
   "metadata": {},
   "outputs": [],
   "source": []
  }
 ],
 "metadata": {
  "kernelspec": {
   "display_name": "Python 3 (ipykernel)",
   "language": "python",
   "name": "python3"
  },
  "language_info": {
   "codemirror_mode": {
    "name": "ipython",
    "version": 3
   },
   "file_extension": ".py",
   "mimetype": "text/x-python",
   "name": "python",
   "nbconvert_exporter": "python",
   "pygments_lexer": "ipython3",
   "version": "3.8.16"
  }
 },
 "nbformat": 4,
 "nbformat_minor": 5
}
